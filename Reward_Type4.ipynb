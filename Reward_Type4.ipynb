{
  "cells": [
    {
      "cell_type": "markdown",
      "metadata": {
        "id": "YvyGCsgSCxHQ"
      },
      "source": [
        "# Install MuJoCo, MJX, and Brax"
      ]
    },
    {
      "cell_type": "code",
      "execution_count": null,
      "metadata": {
        "colab": {
          "base_uri": "https://localhost:8080/"
        },
        "id": "Xqo7pyX-n72M",
        "outputId": "ecb95e5a-3a4c-4a7a-9cc5-4d6d8784f057"
      },
      "outputs": [
        {
          "name": "stdout",
          "output_type": "stream",
          "text": [
            "\u001b[2K     \u001b[90m━━━━━━━━━━━━━━━━━━━━━━━━━━━━━━━━━━━━━━━━\u001b[0m \u001b[32m44.3/44.3 kB\u001b[0m \u001b[31m2.5 MB/s\u001b[0m eta \u001b[36m0:00:00\u001b[0m\n",
            "\u001b[2K     \u001b[90m━━━━━━━━━━━━━━━━━━━━━━━━━━━━━━━━━━━━━━━━\u001b[0m \u001b[32m77.9/77.9 kB\u001b[0m \u001b[31m5.2 MB/s\u001b[0m eta \u001b[36m0:00:00\u001b[0m\n",
            "\u001b[?25h  Preparing metadata (setup.py) ... \u001b[?25l\u001b[?25hdone\n",
            "\u001b[2K   \u001b[90m━━━━━━━━━━━━━━━━━━━━━━━━━━━━━━━━━━━━━━━━\u001b[0m \u001b[32m6.0/6.0 MB\u001b[0m \u001b[31m87.6 MB/s\u001b[0m eta \u001b[36m0:00:00\u001b[0m\n",
            "\u001b[2K   \u001b[90m━━━━━━━━━━━━━━━━━━━━━━━━━━━━━━━━━━━━━━━━\u001b[0m \u001b[32m9.3/9.3 MB\u001b[0m \u001b[31m115.4 MB/s\u001b[0m eta \u001b[36m0:00:00\u001b[0m\n",
            "\u001b[2K   \u001b[90m━━━━━━━━━━━━━━━━━━━━━━━━━━━━━━━━━━━━━━━━\u001b[0m \u001b[32m6.6/6.6 MB\u001b[0m \u001b[31m114.6 MB/s\u001b[0m eta \u001b[36m0:00:00\u001b[0m\n",
            "\u001b[2K   \u001b[90m━━━━━━━━━━━━━━━━━━━━━━━━━━━━━━━━━━━━━━━━\u001b[0m \u001b[32m998.9/998.9 kB\u001b[0m \u001b[31m54.0 MB/s\u001b[0m eta \u001b[36m0:00:00\u001b[0m\n",
            "\u001b[2K   \u001b[90m━━━━━━━━━━━━━━━━━━━━━━━━━━━━━━━━━━━━━━━━\u001b[0m \u001b[32m207.3/207.3 kB\u001b[0m \u001b[31m16.7 MB/s\u001b[0m eta \u001b[36m0:00:00\u001b[0m\n",
            "\u001b[2K   \u001b[90m━━━━━━━━━━━━━━━━━━━━━━━━━━━━━━━━━━━━━━━━\u001b[0m \u001b[32m309.1/309.1 kB\u001b[0m \u001b[31m24.5 MB/s\u001b[0m eta \u001b[36m0:00:00\u001b[0m\n",
            "\u001b[2K   \u001b[90m━━━━━━━━━━━━━━━━━━━━━━━━━━━━━━━━━━━━━━━━\u001b[0m \u001b[32m211.8/211.8 kB\u001b[0m \u001b[31m17.0 MB/s\u001b[0m eta \u001b[36m0:00:00\u001b[0m\n",
            "\u001b[2K   \u001b[90m━━━━━━━━━━━━━━━━━━━━━━━━━━━━━━━━━━━━━━━━\u001b[0m \u001b[32m172.3/172.3 kB\u001b[0m \u001b[31m16.5 MB/s\u001b[0m eta \u001b[36m0:00:00\u001b[0m\n",
            "\u001b[2K   \u001b[90m━━━━━━━━━━━━━━━━━━━━━━━━━━━━━━━━━━━━━━━━\u001b[0m \u001b[32m1.9/1.9 MB\u001b[0m \u001b[31m66.9 MB/s\u001b[0m eta \u001b[36m0:00:00\u001b[0m\n",
            "\u001b[2K   \u001b[90m━━━━━━━━━━━━━━━━━━━━━━━━━━━━━━━━━━━━━━━━\u001b[0m \u001b[32m101.7/101.7 kB\u001b[0m \u001b[31m8.9 MB/s\u001b[0m eta \u001b[36m0:00:00\u001b[0m\n",
            "\u001b[2K   \u001b[90m━━━━━━━━━━━━━━━━━━━━━━━━━━━━━━━━━━━━━━━━\u001b[0m \u001b[32m696.2/696.2 kB\u001b[0m \u001b[31m43.7 MB/s\u001b[0m eta \u001b[36m0:00:00\u001b[0m\n",
            "\u001b[2K   \u001b[90m━━━━━━━━━━━━━━━━━━━━━━━━━━━━━━━━━━━━━━━━\u001b[0m \u001b[32m62.7/62.7 kB\u001b[0m \u001b[31m5.6 MB/s\u001b[0m eta \u001b[36m0:00:00\u001b[0m\n",
            "\u001b[?25h  Building wheel for ml_collections (setup.py) ... \u001b[?25l\u001b[?25hdone\n"
          ]
        }
      ],
      "source": [
        "!pip install -q mujoco wandb mujoco_mjx brax ml_collections\n",
        "#!pip install -q --upgrade ipykernel"
      ]
    },
    {
      "cell_type": "code",
      "execution_count": 1,
      "metadata": {
        "colab": {
          "base_uri": "https://localhost:8080/"
        },
        "id": "KoUGzxpzUJgI",
        "outputId": "cf96e7c3-5fd2-45f7-9dee-9ad03bcf3526"
      },
      "outputs": [
        {
          "name": "stderr",
          "output_type": "stream",
          "text": [
            "/tmp/ipykernel_43383/1450797713.py:3: DeprecationWarning: The distutils package is deprecated and slated for removal in Python 3.12. Use setuptools or check PEP 632 for potential alternatives\n",
            "  import distutils.util\n"
          ]
        },
        {
          "name": "stdout",
          "output_type": "stream",
          "text": [
            "Sun Aug 18 14:00:24 2024       \n",
            "+-----------------------------------------------------------------------------------------+\n",
            "| NVIDIA-SMI 555.42.06              Driver Version: 555.42.06      CUDA Version: 12.5     |\n",
            "|-----------------------------------------+------------------------+----------------------+\n",
            "| GPU  Name                 Persistence-M | Bus-Id          Disp.A | Volatile Uncorr. ECC |\n",
            "| Fan  Temp   Perf          Pwr:Usage/Cap |           Memory-Usage | GPU-Util  Compute M. |\n",
            "|                                         |                        |               MIG M. |\n",
            "|=========================================+========================+======================|\n",
            "|   0  NVIDIA GeForce GTX 1660 Ti     Off |   00000000:01:00.0  On |                  N/A |\n",
            "| N/A   45C    P3             27W /   80W |    1129MiB /   6144MiB |     10%      Default |\n",
            "|                                         |                        |                  N/A |\n",
            "+-----------------------------------------+------------------------+----------------------+\n",
            "                                                                                         \n",
            "+-----------------------------------------------------------------------------------------+\n",
            "| Processes:                                                                              |\n",
            "|  GPU   GI   CI        PID   Type   Process name                              GPU Memory |\n",
            "|        ID   ID                                                               Usage      |\n",
            "|=========================================================================================|\n",
            "|    0   N/A  N/A      1182      G   /usr/lib/xorg/Xorg                            456MiB |\n",
            "|    0   N/A  N/A      1482      G   /usr/bin/gnome-shell                          108MiB |\n",
            "|    0   N/A  N/A      1731      G   /opt/freedownloadmanager/fdm                    1MiB |\n",
            "|    0   N/A  N/A      2775      G   ...seed-version=20240816-130134.023000        327MiB |\n",
            "|    0   N/A  N/A      4586      G   ...erProcess --variations-seed-version        224MiB |\n",
            "+-----------------------------------------------------------------------------------------+\n",
            "Setting environment variable to use GPU rendering:\n",
            "env: MUJOCO_GL=egl\n",
            "Checking that the installation succeeded:\n",
            "Installation successful.\n"
          ]
        }
      ],
      "source": [
        "#@title Check if MuJoCo installation was successful\n",
        "\n",
        "import distutils.util\n",
        "import os\n",
        "import subprocess\n",
        "if subprocess.run('nvidia-smi').returncode:\n",
        "  raise RuntimeError(\n",
        "      'Cannot communicate with GPU. '\n",
        "      'Make sure you are using a GPU Colab runtime. '\n",
        "      'Go to the Runtime menu and select Choose runtime type.')\n",
        "\n",
        "# Add an ICD config so that glvnd can pick up the Nvidia EGL driver.\n",
        "# This is usually installed as part of an Nvidia driver package, but the Colab\n",
        "# kernel doesn't install its driver via APT, and as a result the ICD is missing.\n",
        "# (https://github.com/NVIDIA/libglvnd/blob/master/src/EGL/icd_enumeration.md)\n",
        "NVIDIA_ICD_CONFIG_PATH = '/usr/share/glvnd/egl_vendor.d/10_nvidia.json'\n",
        "if not os.path.exists(NVIDIA_ICD_CONFIG_PATH):\n",
        "  with open(NVIDIA_ICD_CONFIG_PATH, 'w') as f:\n",
        "    f.write(\"\"\"{\n",
        "    \"file_format_version\" : \"1.0.0\",\n",
        "    \"ICD\" : {\n",
        "        \"library_path\" : \"libEGL_nvidia.so.0\"\n",
        "    }\n",
        "}\n",
        "\"\"\")\n",
        "\n",
        "# Configure MuJoCo to use the EGL rendering backend (requires GPU)\n",
        "print('Setting environment variable to use GPU rendering:')\n",
        "%env MUJOCO_GL=egl\n",
        "\n",
        "try:\n",
        "  print('Checking that the installation succeeded:')\n",
        "  import mujoco\n",
        "  mujoco.MjModel.from_xml_string('<mujoco/>')\n",
        "except Exception as e:\n",
        "  raise e from RuntimeError(\n",
        "      'Something went wrong during installation. Check the shell output above '\n",
        "      'for more information.\\n'\n",
        "      'If using a hosted Colab runtime, make sure you enable GPU acceleration '\n",
        "      'by going to the Runtime menu and selecting \"Choose runtime type\".')\n",
        "\n",
        "print('Installation successful.')\n",
        "\n",
        "# Tell XLA to use Triton GEMM, this improves steps/sec by ~30% on some GPUs\n",
        "xla_flags = os.environ.get('XLA_FLAGS', '')\n",
        "xla_flags += ' --xla_gpu_triton_gemm_any=True'\n",
        "os.environ['XLA_FLAGS'] = xla_flags\n"
      ]
    },
    {
      "cell_type": "code",
      "execution_count": 2,
      "metadata": {
        "colab": {
          "base_uri": "https://localhost:8080/"
        },
        "id": "T5f4w3Kq2X14",
        "outputId": "28193d70-584c-4bb5-c468-764b3d300905"
      },
      "outputs": [
        {
          "name": "stdout",
          "output_type": "stream",
          "text": [
            "Installing mediapy:\n"
          ]
        }
      ],
      "source": [
        "#@title Import packages for plotting and creating graphics\n",
        "import time\n",
        "import itertools\n",
        "import numpy as np\n",
        "from typing import Callable, NamedTuple, Optional, Union, List\n",
        "\n",
        "# Graphics and plotting.\n",
        "print('Installing mediapy:')\n",
        "!command -v ffmpeg >/dev/null || (apt update && apt install -y ffmpeg)\n",
        "!pip install -q mediapy\n",
        "import mediapy as media\n",
        "import matplotlib.pyplot as plt\n",
        "\n",
        "# More legible printing from numpy.\n",
        "np.set_printoptions(precision=3, suppress=True, linewidth=100)"
      ]
    },
    {
      "cell_type": "code",
      "execution_count": 3,
      "metadata": {
        "id": "ObF1UXrkb0Nd"
      },
      "outputs": [
        {
          "name": "stderr",
          "output_type": "stream",
          "text": [
            "/usr/lib/python3/dist-packages/requests/__init__.py:87: RequestsDependencyWarning: urllib3 (2.2.2) or chardet (5.2.0) doesn't match a supported version!\n",
            "  warnings.warn(\"urllib3 ({}) or chardet ({}) doesn't match a supported \"\n"
          ]
        }
      ],
      "source": [
        "#@title Import MuJoCo, MJX, and Brax\n",
        "from datetime import datetime\n",
        "from etils import epath\n",
        "import functools\n",
        "from IPython.display import HTML\n",
        "from typing import Any, Dict, Sequence, Tuple, Union\n",
        "import os\n",
        "from ml_collections import config_dict\n",
        "\n",
        "\n",
        "import jax\n",
        "from jax import numpy as jp\n",
        "import numpy as np\n",
        "from flax.training import orbax_utils\n",
        "from flax import struct\n",
        "from matplotlib import pyplot as plt\n",
        "import mediapy as media\n",
        "from orbax import checkpoint as ocp\n",
        "\n",
        "import mujoco\n",
        "from mujoco import mjx\n",
        "\n",
        "from brax import base\n",
        "from brax import envs\n",
        "from brax import math\n",
        "from brax.base import Base, Motion, Transform\n",
        "from brax.envs.base import Env, PipelineEnv, State\n",
        "from brax.mjx.base import State as MjxState\n",
        "from brax.training.agents.ppo import train as ppo\n",
        "from brax.training.agents.ppo import networks as ppo_networks\n",
        "from brax.io import html, mjcf, model\n",
        "\n",
        "import wandb"
      ]
    },
    {
      "cell_type": "markdown",
      "metadata": {
        "id": "3QWxcRXWpnum"
      },
      "source": [
        "#login to wandb"
      ]
    },
    {
      "cell_type": "code",
      "execution_count": null,
      "metadata": {
        "id": "9W3k_kTYpnkm"
      },
      "outputs": [],
      "source": [
        "# api_token = '50c8814867c630e4f1649261257a9e728b7cebb6'\n",
        "# try:\n",
        "#     if wandb.login(key=api_token, relogin=False):\n",
        "#         print(\"Successfully logged in to Weights & Biases.\")\n",
        "#     else:\n",
        "#         print(\"Login failed. Please check your API token.\")\n",
        "# except Exception as e:\n",
        "#     print(f\"An error occurred: {e}\")"
      ]
    },
    {
      "cell_type": "markdown",
      "metadata": {
        "id": "u4Lz7c0QUHX6"
      },
      "source": [
        "# Experiment Config"
      ]
    },
    {
      "cell_type": "code",
      "execution_count": 4,
      "metadata": {
        "id": "7tdVzSOBUHX6"
      },
      "outputs": [],
      "source": [
        "config={\n",
        "    \"algorithm\": \"PPO\",\n",
        "    \"Policy Network Architecture\": \"default\",\n",
        "    \"Value Network Architecture\": \"default\",\n",
        "    \"Obs\":\"data.qpos[2:]+data.qvel[3:6]+data.qacc[0:2]\",\n",
        "    \"reward\":\"multi-stage\",\n",
        "    \"num_timesteps\": 30_000_000,\n",
        "    \"num_evals\":5,\n",
        "    \"reward_scaling\":0.1,\n",
        "    \"episode_length\":1000,\n",
        "    \"normalize_observations\": True,\n",
        "    \"action_repeat\": 1,\n",
        "    \"unroll_length\": 10,\n",
        "    \"num_minibatches\": 32,\n",
        "    \"num_updates_per_batch\": 8,\n",
        "    \"discounting\": 0.97,\n",
        "    \"learning_rate\": 3e-4,\n",
        "    \"entropy_cost\": 1e-3,\n",
        "    \"num_envs\": 2048,\n",
        "    \"batch_size\": 1024,\n",
        "    \"seed\": 0,\n",
        "    \"xml_path\": None,\n",
        "    \"restore_checkpoint_path\": None,\n",
        "    \"create_checkpoint_path\": None\n",
        "}"
      ]
    },
    {
      "cell_type": "markdown",
      "metadata": {
        "id": "zqKByabjUHX6"
      },
      "source": [
        "# Utilities"
      ]
    },
    {
      "cell_type": "code",
      "execution_count": 5,
      "metadata": {
        "id": "YKucPL2vUHX7"
      },
      "outputs": [],
      "source": [
        "# a utility function to create a subset from a given config\n",
        "sub_config = lambda config, wanted_keys: dict((k, config[k]) for k in wanted_keys if k in config)"
      ]
    },
    {
      "cell_type": "markdown",
      "metadata": {
        "id": "wZcCli5KuK2q"
      },
      "source": [
        "# Train"
      ]
    },
    {
      "cell_type": "code",
      "execution_count": null,
      "metadata": {
        "id": "mtGMYNLE3QJN"
      },
      "outputs": [],
      "source": [
        "#@title Humanoid Env\n",
        "\n",
        "class Humanoid(PipelineEnv):\n",
        "\n",
        "  def __init__(\n",
        "      self,\n",
        "      episode_length,\n",
        "      reset_noise_scale=1e-2,\n",
        "      **kwargs,\n",
        "  ):\n",
        "    path = epath.Path(epath.resource_path('mujoco')) / (\n",
        "        'mjx/test_data/humanoid'\n",
        "    )\n",
        "    mj_model = mujoco.MjModel.from_xml_path(\n",
        "        (path / 'humanoid.xml').as_posix())\n",
        "    mj_model.opt.solver = mujoco.mjtSolver.mjSOL_CG\n",
        "    mj_model.opt.iterations = 6\n",
        "    mj_model.opt.ls_iterations = 6\n",
        "\n",
        "    sys = mjcf.load_model(mj_model)\n",
        "\n",
        "    physics_steps_per_control_step = 5\n",
        "    kwargs['n_frames'] = kwargs.get(\n",
        "        'n_frames', physics_steps_per_control_step)\n",
        "    kwargs['backend'] = 'mjx'\n",
        "\n",
        "    super().__init__(sys, **kwargs)\n",
        "\n",
        "\n",
        "\n",
        "\n",
        "    Cxy = jp.array([1, 0])\n",
        "    self._xy_velocity = lambda x: 0.15*jp.exp(-5*jp.square(x[:2]-Cxy))\n",
        "\n",
        "    qd = lambda x,y: jp.linalg.norm(x-y)\n",
        "\n",
        "    C_orient = jp.array([1, 0, 0, 0]) \n",
        "    self._orient = lambda x: 0.1*jp.exp(-30*qd(x,C_orient))\n",
        "    self._contract\n",
        "\n",
        "\n",
        "\n",
        "\n",
        "\n",
        "\n",
        "\n",
        "\n",
        "\n",
        "\n",
        "\n",
        "\n",
        "\n",
        "\n",
        "\n",
        "\n",
        "    def gaussian_factory(mean, std, magnitude=1, offset=0):\n",
        "      return lambda x: magnitude*jp.exp(\n",
        "          -0.5*jp.power(\n",
        "              (x-mean)/std\n",
        "              , 2\n",
        "            )\n",
        "          )+offset\n",
        "\n",
        "    def bounded_exponential_factory(x, x_max, k=1.0):\n",
        "      return lambda x: 100 * (1 - jp.exp(-k * x)) / (1 - jp.exp(-k * x_max))\n",
        "\n",
        "    self._y_deviation_penalty = gaussian_factory(0, 2, 1, -1)\n",
        "\n",
        "    target_velocity = 1\n",
        "    x_max = 1e3\n",
        "    self._x_position_reward = lambda x: jp.clip(10*(1-jp.exp(-(x/x_max))), 0, 10)\n",
        "\n",
        "    self._x_velocity_reward = gaussian_factory(target_velocity, target_velocity, 2, 0)\n",
        "\n",
        "    self._control_cost = lambda x:  -jp.sum(jp.square(x[:-6]))/30000-jp.sum(jp.square(x[-6:]))\n",
        "\n",
        "    self._healthy_reward = lambda x: jp.where(x < 1.0, 0.0, 1.0)\n",
        "\n",
        "    self._default_pose = jp.array([0, 0, 1.282, 1, 0, 0, 0, 0, 0, 0, 0, 0, 0, 0, 0, 0, 0, 0, 0, 0, 0, 0, 0, 0, 0, 0, 0, 0])#sys.mj_model.keyframe('home').qpos[7:]\n",
        "\n",
        "    self._stand_still_penalty = lambda x: -jp.sum(jp.abs(x - self._default_pose))/42\n",
        "\n",
        "    self._reset_noise_scale = reset_noise_scale\n",
        "\n",
        "  def reset(self, rng: jp.ndarray) -> State:\n",
        "    \"\"\"Resets the environment to an initial state.\"\"\"\n",
        "    rng, rng1, rng2 = jax.random.split(rng, 3)\n",
        "\n",
        "    low, hi = -self._reset_noise_scale, self._reset_noise_scale\n",
        "    qpos = self.sys.qpos0 + jax.random.uniform(\n",
        "        rng1, (self.sys.nq,), minval=low, maxval=hi\n",
        "    )\n",
        "    qvel = jax.random.uniform(\n",
        "        rng2, (self.sys.nv,), minval=low, maxval=hi\n",
        "    )\n",
        "\n",
        "\n",
        "    data = self.pipeline_init(qpos, qvel)\n",
        "\n",
        "    reward, done, zero = jp.zeros(3)\n",
        "    metrics = {\n",
        "      'y_deviation_penalty': zero,\n",
        "      'x_position_reward': zero,\n",
        "      #'x_velocity_reward': zero,\n",
        "      'control_cost': zero,\n",
        "      'healthy_reward': zero,\n",
        "      'x_position': zero,\n",
        "      'y_position': zero,\n",
        "      'x_velocity': zero,\n",
        "      'y_velocity': zero,\n",
        "    }\n",
        "\n",
        "    info = {'counter':zero}\n",
        "\n",
        "    obs = self._get_obs(data, jp.zeros(self.sys.nu), info['counter'])\n",
        "\n",
        "    return State(data, obs, reward, done, metrics, info)\n",
        "\n",
        "  def step(self, state: State, action: jp.ndarray) -> State:\n",
        "    \"\"\"Runs one timestep of the environment's dynamics.\"\"\"\n",
        "    action = jp.where(\n",
        "        state.info['counter'] % 200 <= 99,\n",
        "        action,\n",
        "        jp.concatenate([\n",
        "          action[0:3],\n",
        "          action[9:15],\n",
        "          action[3:9],\n",
        "          action[18:21],\n",
        "          action[15:18]\n",
        "        ])\n",
        "    )\n",
        "    data0 = state.pipeline_state\n",
        "    data = self.pipeline_step(data0, action)\n",
        "\n",
        "    com_before = data0.subtree_com[1]\n",
        "    com_after = data.subtree_com[1]\n",
        "    velocity = (com_after - com_before) / self.dt\n",
        "\n",
        "    metrics = {\n",
        "      'xy_velocity': self._xy_velocity(velocity),\n",
        "\n",
        "\n",
        "      'y_deviation_penalty': self._y_deviation_penalty(data.q[1]),\n",
        "      'x_position_reward': self._x_position_reward(data.q[0]),\n",
        "      #'x_velocity_reward': self._x_velocity_reward(velocity[0]),\n",
        "      'control_cost': self._control_cost(action),\n",
        "      'healthy_reward': self._healthy_reward(data.q[2]),\n",
        "    }\n",
        "\n",
        "    state.info['counter'] += 1\n",
        "\n",
        "    reward = jp.array(sum(metrics.values()))\n",
        "\n",
        "    done = jp.where(data.q[2] < 0.9, 1.0, 0.0)\n",
        "\n",
        "    obs = self._get_obs(data, action, state.info['counter'])\n",
        "\n",
        "    state.metrics.update(\n",
        "        x_position=com_after[0],\n",
        "        y_position=com_after[1],\n",
        "        x_velocity=velocity[0],\n",
        "        y_velocity=velocity[1],\n",
        "        **metrics\n",
        "    )\n",
        "    return state.replace(\n",
        "        pipeline_state=data, obs=obs, reward=reward, done=done, info = state.info\n",
        "    )\n",
        "\n",
        "  def _get_obs(\n",
        "      self, data: mjx.Data, action: jp.ndarray, counter: jp.ndarray\n",
        "  ) -> jp.ndarray:\n",
        "    \"\"\"Observes humanoid body position, velocities, and angles.\"\"\"\n",
        "    # external_contact_forces are excluded\n",
        "    return jp.where(\n",
        "        counter % 200 <= 99,\n",
        "        jp.concatenate([\n",
        "          data.qpos[2:],\n",
        "          data.qvel[3:],\n",
        "          action\n",
        "        ]),\n",
        "        jp.concatenate([\n",
        "          data.qpos[2:10],\n",
        "          data.qpos[16:22],\n",
        "          data.qpos[10:16],\n",
        "          data.qpos[25:28],\n",
        "          data.qpos[22:25],\n",
        "          data.qvel[3:9],\n",
        "          data.qvel[15:21],\n",
        "          data.qvel[9:15],\n",
        "          data.qvel[24:27],\n",
        "          data.qvel[21:24],\n",
        "          action[0:3],\n",
        "          action[9:15],\n",
        "          action[3:9],\n",
        "          action[18:21],\n",
        "          action[15:18]\n",
        "        ])\n",
        "    )\n",
        "\n",
        "\n",
        "\n",
        "envs.register_environment('humanoid', Humanoid)"
      ]
    },
    {
      "cell_type": "code",
      "execution_count": null,
      "metadata": {
        "id": "EhKLFK54C1CH"
      },
      "outputs": [],
      "source": [
        "\n",
        "env_name = 'humanoid'\n",
        "env_config = sub_config(config, ['episode_length'])\n",
        "env = envs.get_environment(env_name, **env_config)"
      ]
    },
    {
      "cell_type": "code",
      "execution_count": null,
      "metadata": {
        "id": "vmzdKzWGUHX9"
      },
      "outputs": [],
      "source": [
        "wandb.init(\n",
        "    project=\"tmp\",\n",
        "    config=config\n",
        ")"
      ]
    },
    {
      "cell_type": "markdown",
      "metadata": {
        "id": "BQDG6NQ1CbZD"
      },
      "source": [
        "## Train Humanoid Policy"
      ]
    },
    {
      "cell_type": "code",
      "execution_count": null,
      "metadata": {
        "id": "2fw-G8UWUHX9"
      },
      "outputs": [],
      "source": [
        "ckpt_path = epath.Path('/content/tmp/humanoid/ckpts')\n",
        "ckpt_path.mkdir(parents=True, exist_ok=True)\n",
        "\n",
        "def policy_params_fn(current_step, make_policy, params):\n",
        "  # save checkpoints\n",
        "  # orbax_checkpointer = ocp.PyTreeCheckpointer()\n",
        "  # save_args = orbax_utils.save_args_from_target(params)\n",
        "  # path = ckpt_path / f'{current_step}'\n",
        "  # orbax_checkpointer.save(path, params, force=True, save_args=save_args)\n",
        "  pass\n",
        "\n",
        "def save_checkpoint(path, params):\n",
        "  orbax_checkpointer = ocp.PyTreeCheckpointer()\n",
        "  save_args = orbax_utils.save_args_from_target(params)\n",
        "  orbax_checkpointer.save(path, params, force=True, save_args=save_args)\n",
        "\n",
        "train_config = sub_config(config, ['num_timesteps', 'num_evals', 'reward_scaling', 'episode_length', 'normalize_observations', 'action_repeat', 'unroll_length', 'num_minibatches', 'num_updates_per_batch', 'discounting', 'learning_rate', 'entropy_cost', 'num_envs', 'batch_size', 'seed'])\n",
        "\n",
        "# make_networks_factory = functools.partial(\n",
        "#     ppo_networks.make_ppo_networks,\n",
        "#         policy_hidden_layer_sizes=(16, 32, 32)\n",
        "# )\n",
        "\n",
        "train_fn = functools.partial(ppo.train, **train_config)\n",
        "\n",
        "\n",
        "times = [datetime.now()]\n",
        "def progress(num_steps, metrics):\n",
        "  times.append(datetime.now())\n",
        "  _metrics = metrics.copy()\n",
        "  _metrics['numsteps'] = num_steps\n",
        "  wandb.log(_metrics)\n",
        "\n",
        "\n",
        "\n",
        "make_inference_fn, params, _= train_fn(environment=env, progress_fn=progress)\n",
        "\n",
        "print(f'time to jit: {times[1] - times[0]}')\n",
        "print(f'time to train: {times[-1] - times[1]}')"
      ]
    },
    {
      "cell_type": "code",
      "execution_count": null,
      "metadata": {
        "id": "-jeY9sLEUHX-"
      },
      "outputs": [],
      "source": [
        "save_checkpoint(ckpt_path, params)"
      ]
    },
    {
      "cell_type": "markdown",
      "metadata": {
        "id": "0G357XIfApBy"
      },
      "source": [
        "## Visualize Policy"
      ]
    },
    {
      "cell_type": "code",
      "execution_count": null,
      "metadata": {
        "id": "osYasMw4ApBy"
      },
      "outputs": [],
      "source": [
        "eval_env = envs.get_environment(env_name,episode_length=1000)\n",
        "\n",
        "jit_reset = jax.jit(eval_env.reset)\n",
        "jit_step = jax.jit(eval_env.step)\n",
        "inference_fn = make_inference_fn(params)\n",
        "jit_inference_fn = jax.jit(inference_fn)"
      ]
    },
    {
      "cell_type": "code",
      "execution_count": null,
      "metadata": {
        "id": "MFo1IxhQfH6t"
      },
      "outputs": [],
      "source": [
        "!mkdir video"
      ]
    },
    {
      "cell_type": "code",
      "execution_count": null,
      "metadata": {
        "id": "d-UhypudApBy"
      },
      "outputs": [],
      "source": [
        "# initialize the state\n",
        "rng = jax.random.PRNGKey(0)\n",
        "state = jit_reset(rng)\n",
        "rollout = [state.pipeline_state]\n",
        "\n",
        "# grab a trajectory\n",
        "n_steps = 1000\n",
        "render_every = 2\n",
        "\n",
        "for i in range(n_steps):\n",
        "  act_rng, rng = jax.random.split(rng)\n",
        "  ctrl, _ = jit_inference_fn(state.obs, act_rng)\n",
        "  state = jit_step(state, ctrl)\n",
        "  rollout.append(state.pipeline_state)\n",
        "\n",
        "  if state.done:\n",
        "    break\n",
        "\n",
        "media.write_video('video/eval.mp4',env.render(rollout[::render_every], camera='side'), fps=1.0 / env.dt / render_every)\n",
        "#media.show_video(env.render(rollout[::render_every], camera='side'), fps=1.0 / env.dt / render_every)"
      ]
    },
    {
      "cell_type": "code",
      "execution_count": null,
      "metadata": {
        "id": "cHmc-13zUHX_"
      },
      "outputs": [],
      "source": [
        "wandb.log({\"video\": wandb.Video(\"video/eval.mp4\", caption=\"tmp\" ,fps=1.0 / env.dt / render_every, format=\"mp4\")})"
      ]
    },
    {
      "cell_type": "code",
      "execution_count": null,
      "metadata": {
        "id": "73jSid3ZVQzj"
      },
      "outputs": [],
      "source": [
        "import zipfile\n",
        "def zip_directory(folder_path, zip_path):\n",
        "    # Ensure the folder exists\n",
        "    if not os.path.exists(folder_path):\n",
        "        print(f\"The directory {folder_path} does not exist.\")\n",
        "        return\n",
        "\n",
        "    with zipfile.ZipFile(zip_path, 'w', zipfile.ZIP_DEFLATED) as zipf:\n",
        "        for root, dirs, files in os.walk(folder_path):\n",
        "            for file in files:\n",
        "                zipf.write(os.path.join(root, file),\n",
        "                           os.path.relpath(os.path.join(root, file),\n",
        "                                           os.path.join(folder_path, '..')))\n",
        "    print(f\"Successfully created zip file at {zip_path}\")\n",
        "\n",
        "# Define the folder and zip file paths\n",
        "folder_path = \"/content/tmp/humanoid/ckpts\"\n",
        "zip_path = \"/content/ckpts.zip\"\n",
        "\n",
        "# Call the function to zip the directory\n",
        "zip_directory(folder_path, zip_path)"
      ]
    },
    {
      "cell_type": "code",
      "execution_count": null,
      "metadata": {
        "id": "qHklHU9uVQsx"
      },
      "outputs": [],
      "source": [
        "wandb.save(zip_path, base_path=\"/content/\")"
      ]
    },
    {
      "cell_type": "code",
      "execution_count": null,
      "metadata": {
        "id": "SLyakEURBYYy"
      },
      "outputs": [],
      "source": [
        "%notebook -e notebook.ipynb"
      ]
    },
    {
      "cell_type": "code",
      "execution_count": null,
      "metadata": {
        "id": "82h04UPWBfaN"
      },
      "outputs": [],
      "source": [
        "wandb.save(\"/content/notebook.ipynb\", base_path=\"/content/\")"
      ]
    },
    {
      "cell_type": "code",
      "execution_count": null,
      "metadata": {
        "id": "6tY-ve8iVQpK"
      },
      "outputs": [],
      "source": [
        "wandb.finish()"
      ]
    },
    {
      "cell_type": "code",
      "execution_count": null,
      "metadata": {
        "id": "_HYks1urQunz"
      },
      "outputs": [],
      "source": []
    }
  ],
  "metadata": {
    "accelerator": "GPU",
    "colab": {
      "gpuType": "T4",
      "provenance": []
    },
    "kaggle": {
      "accelerator": "gpu",
      "dataSources": [],
      "dockerImageVersionId": 30747,
      "isGpuEnabled": true,
      "isInternetEnabled": true,
      "language": "python",
      "sourceType": "notebook"
    },
    "kernelspec": {
      "display_name": "Python 3",
      "name": "python3"
    },
    "language_info": {
      "codemirror_mode": {
        "name": "ipython",
        "version": 3
      },
      "file_extension": ".py",
      "mimetype": "text/x-python",
      "name": "python",
      "nbconvert_exporter": "python",
      "pygments_lexer": "ipython3",
      "version": "3.10.12"
    }
  },
  "nbformat": 4,
  "nbformat_minor": 0
}
